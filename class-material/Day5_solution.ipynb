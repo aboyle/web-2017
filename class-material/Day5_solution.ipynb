{
 "cells": [
  {
   "cell_type": "markdown",
   "metadata": {},
   "source": [
    "# Example Notebook For Group Projects#\n",
    "\n",
    "08-28-2015\n",
    "\n",
    "This is an example notebook for the types of analysis that will be performed on Day 5 of the Biocomputing Bootcamp."
   ]
  },
  {
   "cell_type": "markdown",
   "metadata": {},
   "source": [
    "#### Setup"
   ]
  },
  {
   "cell_type": "code",
   "execution_count": 2,
   "metadata": {
    "collapsed": false
   },
   "outputs": [
    {
     "name": "stdout",
     "output_type": "stream",
     "text": [
      "Populating the interactive namespace from numpy and matplotlib\n",
      "Work directory is /scratch/biobootcamp_fluxod/kitzmanj/temp\n",
      "Genotype directory is /scratch/biobootcamp_fluxod/kitzmanj/geuvadis/genotypes_fixed/\n",
      "Gene Expression directory is /scratch/biobootcamp_fluxod/remills/bioboot/geuvadis/analysis_results\n"
     ]
    }
   ],
   "source": [
    "# imports matplotlib\n",
    "# import pyplot to plt\n",
    "%pylab inline\n",
    "import numpy as np\n",
    "import subprocess\n",
    "import re\n",
    "from scipy import stats\n",
    "import os\n",
    "import csv\n",
    "import vcf\n",
    "import sys\n",
    "import pysam\n",
    "from operator import itemgetter\n",
    "from itertools import groupby, cycle\n",
    "\n",
    "workDir = './'\n",
    "# workDir ='/scratch/biobootcamp_fluxod/myname/day5/'\n",
    "genoDir= '/scratch/biobootcamp_fluxod/kitzmanj/geuvadis/genotypes_fixed/'\n",
    "expDir = '/scratch/biobootcamp_fluxod/remills/bioboot/geuvadis/analysis_results'\n",
    "\n",
    "os.chdir(workDir)\n",
    "\n",
    "print 'Work directory is',os.getcwd()\n",
    "print 'Genotype directory is',genoDir\n",
    "print 'Gene Expression directory is',expDir"
   ]
  },
  {
   "cell_type": "code",
   "execution_count": 3,
   "metadata": {
    "collapsed": true
   },
   "outputs": [],
   "source": [
    "# you will hit an error in the above line.\n",
    "# read the error message and determine what needs to be done (here and at the terminal)"
   ]
  },
  {
   "cell_type": "markdown",
   "metadata": {
    "collapsed": true
   },
   "source": [
    "###Obtaining Data\n",
    "Scientists must often make use of large data sets that are made available on either websites or data repositories. Here, we have already downloaded the pertinent data, but for reference here is a way the data could be obtained."
   ]
  },
  {
   "cell_type": "code",
   "execution_count": 3,
   "metadata": {
    "collapsed": true
   },
   "outputs": [],
   "source": [
    "\n",
    "#os.chdir(expDir)\n",
    "#subprocess.call([\"wget\", \"ftp://ftp.ebi.ac.uk/pub/databases/microarray/data/experiment/GEUV/E-GEUV-1/analysis_results/*\"])\n",
    "#os.chdir(genoDir)\n",
    "#subprocess.call([\"wget\", \"ftp://ftp.ebi.ac.uk/pub/databases/microarray/data/experiment/GEUV/E-GEUV-1/genotypes/*\"])\n",
    "#os.chdir(workDir)"
   ]
  },
  {
   "cell_type": "code",
   "execution_count": null,
   "metadata": {
    "collapsed": true
   },
   "outputs": [],
   "source": []
  },
  {
   "cell_type": "markdown",
   "metadata": {},
   "source": [
    "### Parsing the expression value table\n",
    "The file with gene-level quantification under the data directory\n",
    "in a file named GeneQuantRPKM.txt\n",
    "\n",
    "This file is a matrix of gene expression values across genes (rows) vs individuals (columns)\n",
    "\n",
    "We'd like to parse the following:\n",
    "  1. List of individual/sample names\n",
    "  2. List of gene names\n",
    "  \n",
    "  \n",
    "Go back to the shell and check it out via unix commands (less, cut, head)"
   ]
  },
  {
   "cell_type": "code",
   "execution_count": null,
   "metadata": {
    "collapsed": true
   },
   "outputs": [],
   "source": []
  },
  {
   "cell_type": "code",
   "execution_count": 10,
   "metadata": {
    "collapsed": true
   },
   "outputs": [],
   "source": [
    "pathToQuantFile = expDir + '/GD660.GeneQuantRPKM.txt'"
   ]
  },
  {
   "cell_type": "code",
   "execution_count": null,
   "metadata": {
    "collapsed": true
   },
   "outputs": [],
   "source": []
  },
  {
   "cell_type": "code",
   "execution_count": null,
   "metadata": {
    "collapsed": true
   },
   "outputs": [],
   "source": []
  },
  {
   "cell_type": "markdown",
   "metadata": {},
   "source": [
    "#### Get list of individual/sample names from the quant file\n",
    "\n",
    " - first open the file for reading\n",
    " - Loop through the file, line by line\n",
    " - At each line, extract the gene name and add it to a list"
   ]
  },
  {
   "cell_type": "code",
   "execution_count": 11,
   "metadata": {
    "collapsed": false
   },
   "outputs": [],
   "source": [
    "def readIndivNamesFromExpressionTable( tableFileName ):\n",
    "    tableFile = open( tableFileName, 'r' )\n",
    "    \n",
    "    firstLine = tableFile.readline()\n",
    "    # split at the tab separators into a list\n",
    "    firstLine = firstLine.rstrip().split('\\t')\n",
    "    \n",
    "    firstLine = [ name.split('.')[0] for name in firstLine ]\n",
    "    \n",
    "    # everything after the fourth column\n",
    "    return firstLine[4:]"
   ]
  },
  {
   "cell_type": "code",
   "execution_count": null,
   "metadata": {
    "collapsed": true
   },
   "outputs": [],
   "source": []
  },
  {
   "cell_type": "code",
   "execution_count": 12,
   "metadata": {
    "collapsed": true
   },
   "outputs": [],
   "source": [
    "expressionTableIndivs = readIndivNamesFromExpressionTable( pathToQuantFile )\n",
    "\n",
    "# this returns a dict mapping from person name to the column number in the file"
   ]
  },
  {
   "cell_type": "code",
   "execution_count": 13,
   "metadata": {
    "collapsed": false
   },
   "outputs": [
    {
     "data": {
      "text/plain": [
       "9"
      ]
     },
     "execution_count": 13,
     "metadata": {},
     "output_type": "execute_result"
    }
   ],
   "source": [
    "# sanity check - is this right?  (go back to your flux terminal and verify)\n",
    "expressionTableIndivs.index( 'HG00105' )"
   ]
  },
  {
   "cell_type": "code",
   "execution_count": null,
   "metadata": {
    "collapsed": true
   },
   "outputs": [],
   "source": []
  },
  {
   "cell_type": "code",
   "execution_count": null,
   "metadata": {
    "collapsed": true
   },
   "outputs": [],
   "source": []
  },
  {
   "cell_type": "markdown",
   "metadata": {},
   "source": [
    "#### DIY - get list of gene names from the quant file\n",
    "\n",
    " - first open the file for reading\n",
    " - Loop through the file, line by line\n",
    " - At each line, extract the gene name and add it to a list\n",
    " - final list should have entries of the form \"ENSG###########\" \n"
   ]
  },
  {
   "cell_type": "code",
   "execution_count": 14,
   "metadata": {
    "collapsed": false
   },
   "outputs": [],
   "source": [
    "def readGeneNamesFromExpressionTable( tableFileName ):\n",
    "    tableFile = open( tableFileName, 'r' )\n",
    "    \n",
    "    # ...\n",
    "\n",
    "    # return something\n",
    "    \n",
    "# one solution:\n",
    "def readGeneNamesFromExpressionTable( tableFileName ):\n",
    "    tableFile = open( tableFileName,'r' )\n",
    "    \n",
    "    tableFile.readline()\n",
    "    \n",
    "    geneNames = []\n",
    "    \n",
    "    for line in tableFile:\n",
    "        line = line.rstrip().split('\\t')\n",
    "        geneNames.append( line[0].split('.')[0] )\n",
    "    \n",
    "    return geneNames"
   ]
  },
  {
   "cell_type": "code",
   "execution_count": 15,
   "metadata": {
    "collapsed": false
   },
   "outputs": [
    {
     "name": "stdout",
     "output_type": "stream",
     "text": [
      "['ENSG00000225538', 'ENSG00000237851', 'ENSG00000243765', 'ENSG00000257527', 'ENSG00000212855', 'ENSG00000151503', 'ENSG00000254903', 'ENSG00000254681', 'ENSG00000250501', 'ENSG00000228477']\n"
     ]
    }
   ],
   "source": [
    "listOfGeneNames = readGeneNamesFromExpressionTable( pathToQuantFile )\n",
    "\n",
    "print listOfGeneNames[0:10]"
   ]
  },
  {
   "cell_type": "code",
   "execution_count": null,
   "metadata": {
    "collapsed": true
   },
   "outputs": [],
   "source": []
  },
  {
   "cell_type": "markdown",
   "metadata": {},
   "source": [
    "#### DIY - extract a given gene by name from this file\n",
    "\n",
    " - first open the file for reading\n",
    " - Loop through the file, line by line\n",
    " - If the gene name is equal to the one we're looking for, process the line:\n",
    "     - extract numerical expression values from the line\n",
    "     - make a dictionary from individual name to expression value\n",
    "     - then return the dictionary\n",
    "   \n",
    "   \n",
    " - advanced: to perform this operation much more quickly, explore using pandas\n",
    " <pre>\n",
    " import pandas as pd\n",
    " tbl = pd.read_csv(filename, sep='\\t')\n",
    " tbl = tbl.set_index #  (....a column name - which one do you want to index on? )\n",
    " tbl.ix['ENSG00000215372.5']\n",
    "\n"
   ]
  },
  {
   "cell_type": "code",
   "execution_count": 16,
   "metadata": {
    "collapsed": false
   },
   "outputs": [],
   "source": [
    "def extractExpressionValues( tableFileName, geneName, indivList  ):\n",
    "\n",
    "    # open the file\n",
    "    \n",
    "    # loop over lines\n",
    "    \n",
    "    # when you reach a matching line, put expression value and individual name into a dictionary\n",
    "    \n",
    "    # hint 1: if you are part of the way there but stuck, try putting print statements \n",
    "    #    in your code to debug\n",
    "    # \n",
    "    # hint 2: there many ways to do this -- but one useful function is zip\n",
    "    #\n",
    "    #   https://docs.python.org/2/library/functions.html#zip\n",
    "    #   \n",
    "    #   test combining two lists \n",
    "    #       my_favorites = zip( ['brewery','ice cream','peninsula'], ['new glarus','washtenaw','olympic'] )\n",
    "    #   \n",
    "    #   this will make a list of tuples\n",
    "    #    \n",
    "    #   a dictionary can be made from a list of tuples by calling\n",
    "    #     dict( my_favorites ) \n",
    "    #  \n",
    "    # hint 3: if you have a list that you need to convert to floating point numbers\n",
    "    #    you could use a list comprehension such as\n",
    "    #    one_list = [ float(thing) for thing in another_list ]\n",
    "    #    \n",
    "    \n",
    "    # return ...\n",
    "    \n",
    "    return\n",
    "\n",
    "\n",
    "# one solution:\n",
    "def extractExpressionValues( tableFileName, geneName, indivList  ):\n",
    "    tableFile = open( tableFileName, 'r' )\n",
    "    \n",
    "    tableFile.readline()\n",
    "    \n",
    "    for line in tableFile:\n",
    "        \n",
    "        line = line.strip('\\n').split('\\t')\n",
    "        \n",
    "        curLineGene = line[0].split('.')[0]\n",
    "        \n",
    "        if curLineGene == geneName:\n",
    "            valueList = line[4:]\n",
    "            \n",
    "            valueList = [float(x) for x in valueList]\n",
    "            \n",
    "            indivToValue = dict( zip( indivList, valueList ))\n",
    "            return indivToValue\n",
    "        \n",
    "    raise Exception('Unable to find a gene named %s'%geneName)"
   ]
  },
  {
   "cell_type": "code",
   "execution_count": null,
   "metadata": {
    "collapsed": true
   },
   "outputs": [],
   "source": []
  },
  {
   "cell_type": "code",
   "execution_count": 17,
   "metadata": {
    "collapsed": false
   },
   "outputs": [],
   "source": [
    "indivToExpr = extractExpressionValues( pathToQuantFile, 'ENSG00000151503', expressionTableIndivs )"
   ]
  },
  {
   "cell_type": "code",
   "execution_count": 18,
   "metadata": {
    "collapsed": false
   },
   "outputs": [
    {
     "name": "stdout",
     "output_type": "stream",
     "text": [
      "['NA20826', 'NA07357', 'NA20816', 'NA12058', 'HG00271', 'HG00379', 'HG00273', 'HG00272', 'HG00275', 'HG00274']\n",
      "[36.9058, 40.59939, 49.00647, 33.27502, 37.8971, 60.67668, 15.74607, 44.64341, 24.29347, 39.7744]\n"
     ]
    }
   ],
   "source": [
    "print indivToExpr.keys()[:10]\n",
    "print indivToExpr.values()[:10]"
   ]
  },
  {
   "cell_type": "markdown",
   "metadata": {},
   "source": [
    "#### DIY:  visualize the distribution of expression values for this gene\n",
    "\n",
    "- refer back the day3 basic plotting notebook (https://github.com/bioboot/web-2015/blob/gh-pages/class-material/basic_matplotlib_plots.ipynb) to plot rank-ordered values\n"
   ]
  },
  {
   "cell_type": "code",
   "execution_count": 19,
   "metadata": {
    "collapsed": false
   },
   "outputs": [
    {
     "data": {
      "text/plain": [
       "[<matplotlib.lines.Line2D at 0x2ad789f0a7d0>]"
      ]
     },
     "execution_count": 19,
     "metadata": {},
     "output_type": "execute_result"
    },
    {
     "data": {
      "image/png": "[encoded data removed]",
      "text/plain": [
       "<matplotlib.figure.Figure at 0x2ad789a64190>"
      ]
     },
     "metadata": {},
     "output_type": "display_data"
    }
   ],
   "source": [
    "# one solution:\n",
    "sortedValues = np.sort(indivToExpr.values())\n",
    "ranks = np.arange( 0,len(sortedValues) )\n",
    "plt.plot( ranks, sortedValues )"
   ]
  },
  {
   "cell_type": "code",
   "execution_count": null,
   "metadata": {
    "collapsed": true
   },
   "outputs": [],
   "source": []
  },
  {
   "cell_type": "markdown",
   "metadata": {},
   "source": [
    "### Pick a region\n",
    "\n",
    "chr5:95,984,676-96,185,176 - Alcohol Dependence - ERAP1 - rs13160562 GWAS, rs1057569 eQTL  \n",
    "chr11:47,426,802-47,627,302 - Body Mass Index - MTCH2 - rs3817334 GWAS, rs10838724 eQTL  \n",
    "chr1:205,620,478-205,820,978 - Parkinsons disease - RAB7L1 - rs947211 GWAS, rs708725 eQTL  \n",
    "chr21:38,432,812-38,633,312 - Eye color traits - TTC3 - rs1003719 GWAS, rs3787788 eQTL  \n",
    "chr20:5,883,504-6,084,004 - HIV-1 control - MCM8 - rs454422 GWAS, rs13041190 eQTL  \n",
    "chr5:156,807,522-157,008,022 - Pulmonary function - ADAM19 - rs2277027 GWAS, rs9313615 eQTL \n",
    "\n",
    "Go to ENSEMBL and find the gene identifier (starts \"ENSG..\") for your gene symbol (ERAP1, MTCH2,...)\n",
    "\n",
    "Under \"Search:\" select Human, and enter your gene name.  You'll see a list of results, and look \n",
    "for an identifier beginning with \"ENSG\"\n",
    "\n",
    "Quickly check for that line in the table using grep.  "
   ]
  },
  {
   "cell_type": "code",
   "execution_count": 20,
   "metadata": {
    "collapsed": true
   },
   "outputs": [],
   "source": [
    "chromo = '5'\n",
    "startPos, endPos = 95984676, 96185176"
   ]
  },
  {
   "cell_type": "code",
   "execution_count": null,
   "metadata": {
    "collapsed": true
   },
   "outputs": [],
   "source": []
  },
  {
   "cell_type": "markdown",
   "metadata": {},
   "source": [
    "#### DIY - extract & plot expression values for your gene\n",
    " - plot as a ranked list \n",
    " - plot as a histogram\n",
    " - plot as a boxplot"
   ]
  },
  {
   "cell_type": "code",
   "execution_count": 21,
   "metadata": {
    "collapsed": false,
    "scrolled": true
   },
   "outputs": [
    {
     "data": {
      "image/png": "[encoded data removed]",
      "text/plain": [
       "<matplotlib.figure.Figure at 0x2ad774012890>"
      ]
     },
     "metadata": {},
     "output_type": "display_data"
    },
    {
     "data": {
      "image/png": "[encoded data removed]",
      "text/plain": [
       "<matplotlib.figure.Figure at 0x2ad789f20090>"
      ]
     },
     "metadata": {},
     "output_type": "display_data"
    },
    {
     "data": {
      "image/png": "[encoded data removed]",
      "text/plain": [
       "<matplotlib.figure.Figure at 0x2ad78a565510>"
      ]
     },
     "metadata": {},
     "output_type": "display_data"
    }
   ],
   "source": [
    "# one solution:\n",
    "\n",
    "indivToExpr = extractExpressionValues( pathToQuantFile, 'ENSG00000053770', expressionTableIndivs )\n",
    "\n",
    "sortedValues = np.sort(indivToExpr.values())\n",
    "ranks = np.arange( 0,len(sortedValues) )\n",
    "plt.plot( ranks, sortedValues )\n",
    "\n",
    "plt.figure()\n",
    "_ = plt.hist(indivToExpr.values())\n",
    "\n",
    "plt.figure()\n",
    "_ = plt.boxplot(indivToExpr.values())"
   ]
  },
  {
   "cell_type": "code",
   "execution_count": null,
   "metadata": {
    "collapsed": true
   },
   "outputs": [],
   "source": []
  },
  {
   "cell_type": "code",
   "execution_count": null,
   "metadata": {
    "collapsed": true
   },
   "outputs": [],
   "source": []
  },
  {
   "cell_type": "markdown",
   "metadata": {},
   "source": [
    "### Extract genotype data\n",
    "Now that we have the files in the proper format, we will pull out the relevant portions to \n",
    "our analysis using one of the regions of interest. \n",
    "\n",
    "Given that each region is ~200,000 bp in size, \n",
    "there will likely be many more SNPs than there are genes in the region. \n",
    "\n",
    " - In your flux terminal, check out the genotypes directory.  Which file do you need to use?\n",
    " - These files are large!  We will not loop through the entire chromosome vcf just for our small region\n",
    " - Instead, we can use tabix -- try this from the command line and extract the results into an individual VCF in your own directory\n",
    " - use bgzip and tabix to compress this file\n"
   ]
  },
  {
   "cell_type": "code",
   "execution_count": 22,
   "metadata": {
    "collapsed": true
   },
   "outputs": [],
   "source": [
    "pathToMyRegionGenotypes = workDir + '/ERAP1_flank200k_genotypes.vcf.gz'"
   ]
  },
  {
   "cell_type": "code",
   "execution_count": null,
   "metadata": {
    "collapsed": true
   },
   "outputs": [],
   "source": []
  },
  {
   "cell_type": "code",
   "execution_count": null,
   "metadata": {
    "collapsed": true
   },
   "outputs": [],
   "source": []
  },
  {
   "cell_type": "code",
   "execution_count": null,
   "metadata": {
    "collapsed": true
   },
   "outputs": [],
   "source": []
  },
  {
   "cell_type": "code",
   "execution_count": null,
   "metadata": {
    "collapsed": true
   },
   "outputs": [],
   "source": []
  },
  {
   "cell_type": "markdown",
   "metadata": {},
   "source": [
    "#### Try out PyVCF \n",
    "\n",
    "Quick introduction: http://pyvcf.readthedocs.org/en/latest/INTRO.html \n",
    "\n",
    "This is a useful python library for reading VCF files, so you don't have to write your own parser"
   ]
  },
  {
   "cell_type": "code",
   "execution_count": 23,
   "metadata": {
    "collapsed": true
   },
   "outputs": [],
   "source": [
    "vcfFile = vcf.Reader( open('/scratch/biobootcamp_fluxod/remills/bioboot/geuvadis/genotypes/GEUVADIS.chr9.PH1PH2_465.IMPFRQFILT_BIALLELIC_PH.annotv2.genotypes.vcf.gz','r') )"
   ]
  },
  {
   "cell_type": "code",
   "execution_count": 24,
   "metadata": {
    "collapsed": false
   },
   "outputs": [],
   "source": [
    "line = vcfFile.next()"
   ]
  },
  {
   "cell_type": "code",
   "execution_count": 25,
   "metadata": {
    "collapsed": false
   },
   "outputs": [
    {
     "name": "stdout",
     "output_type": "stream",
     "text": [
      "Record(CHROM=9, POS=10023, REF=CCAA, ALT=[C])\n"
     ]
    }
   ],
   "source": [
    "print line"
   ]
  },
  {
   "cell_type": "code",
   "execution_count": 26,
   "metadata": {
    "collapsed": false
   },
   "outputs": [
    {
     "name": "stdout",
     "output_type": "stream",
     "text": [
      "Call(sample=NA07357, CallData(GT=0|0, GL=[0.0, -0.3, -5.4], DS=0.25, PP=None, BD=None))\n"
     ]
    }
   ],
   "source": [
    "print line.genotype( 'NA07357' )"
   ]
  },
  {
   "cell_type": "code",
   "execution_count": 27,
   "metadata": {
    "collapsed": false
   },
   "outputs": [
    {
     "name": "stdout",
     "output_type": "stream",
     "text": [
      "{'EUR_AF': 0.1, 'AVGPOST': 0.5946, 'AC': [253], 'DAF_GLOBAL': [None], 'AF': 0.12, 'ASN_AF': 0.14, 'AFR_AF': 0.09, 'AMR_AF': 0.15, 'ERATE': 0.0142, 'AN': 2184, 'LDAF': 0.2827, 'CHROM_STATE': ['14'], 'GERP': [None], 'CELL': ['GM12878'], 'VT': 'INDEL', 'THETA': 0.0047, 'ANNOTATION_CLASS': ['ACTIVE_CHROM'], 'RSQ': 0.1592}\n"
     ]
    }
   ],
   "source": [
    "print line.INFO"
   ]
  },
  {
   "cell_type": "code",
   "execution_count": null,
   "metadata": {
    "collapsed": true
   },
   "outputs": [],
   "source": []
  },
  {
   "cell_type": "code",
   "execution_count": 28,
   "metadata": {
    "collapsed": false
   },
   "outputs": [
    {
     "name": "stdout",
     "output_type": "stream",
     "text": [
      "0.12\n"
     ]
    }
   ],
   "source": [
    "# what is the allele frequency (overall among our samples) of this variant?\n",
    "print line.INFO['AF']\n",
    "# what would 0.01 mean?  \n",
    "# what would 0.99 mean?"
   ]
  },
  {
   "cell_type": "code",
   "execution_count": null,
   "metadata": {
    "collapsed": true
   },
   "outputs": [],
   "source": []
  },
  {
   "cell_type": "code",
   "execution_count": 29,
   "metadata": {
    "collapsed": false
   },
   "outputs": [
    {
     "name": "stdout",
     "output_type": "stream",
     "text": [
      "0|0\n"
     ]
    }
   ],
   "source": [
    "print line.genotype( 'NA07357' )['GT']"
   ]
  },
  {
   "cell_type": "code",
   "execution_count": 55,
   "metadata": {
    "collapsed": false
   },
   "outputs": [
    {
     "name": "stdout",
     "output_type": "stream",
     "text": [
      "0\n"
     ]
    }
   ],
   "source": [
    "#  http://pyvcf.readthedocs.org/en/latest/API.html?highlight=gt_type#vcf.model._Call.gt_type\n",
    "print line.genotype( 'NA07357' ).gt_type"
   ]
  },
  {
   "cell_type": "code",
   "execution_count": null,
   "metadata": {
    "collapsed": true
   },
   "outputs": [],
   "source": []
  },
  {
   "cell_type": "code",
   "execution_count": null,
   "metadata": {
    "collapsed": true
   },
   "outputs": [],
   "source": []
  },
  {
   "cell_type": "markdown",
   "metadata": {},
   "source": [
    "#### Select rows by genomic coordintate \n",
    "\n",
    "PyVCF has tabix functionality 'baked in'\n",
    "\n",
    "Use the .fetch() command"
   ]
  },
  {
   "cell_type": "code",
   "execution_count": 30,
   "metadata": {
    "collapsed": false
   },
   "outputs": [
    {
     "name": "stdout",
     "output_type": "stream",
     "text": [
      "59\n"
     ]
    }
   ],
   "source": [
    "# count number of variant records on chrom 9 between 40 and 40.1 Mbp\n",
    "countOfLines = 0\n",
    "for line in vcfFile.fetch( '9', 40000000, 40100000 ):\n",
    "    countOfLines += 1\n",
    "    \n",
    "print countOfLines"
   ]
  },
  {
   "cell_type": "markdown",
   "metadata": {},
   "source": [
    "#### DIY- count number of rows in same region with MAF > 5%"
   ]
  },
  {
   "cell_type": "code",
   "execution_count": 31,
   "metadata": {
    "collapsed": false
   },
   "outputs": [
    {
     "name": "stdout",
     "output_type": "stream",
     "text": [
      "24\n"
     ]
    }
   ],
   "source": [
    "# one solution:\n",
    "countOfLines = 0\n",
    "for line in vcfFile.fetch( '9', 40000000, 40100000 ):\n",
    "    if line.INFO['AF'] > 0.05 and line.INFO['AF'] < 0.95:\n",
    "        countOfLines += 1\n",
    "    \n",
    "print countOfLines"
   ]
  },
  {
   "cell_type": "markdown",
   "metadata": {},
   "source": [
    "#### DIY- count number of rows YOUR region with MAF > 5%"
   ]
  },
  {
   "cell_type": "code",
   "execution_count": 32,
   "metadata": {
    "collapsed": false
   },
   "outputs": [
    {
     "name": "stdout",
     "output_type": "stream",
     "text": [
      "5 95984676 96185176\n"
     ]
    }
   ],
   "source": [
    "print chromo,startPos,endPos"
   ]
  },
  {
   "cell_type": "code",
   "execution_count": 33,
   "metadata": {
    "collapsed": false
   },
   "outputs": [
    {
     "name": "stdout",
     "output_type": "stream",
     "text": [
      "615\n"
     ]
    }
   ],
   "source": [
    "# one solution:\n",
    "countOfLines = 0\n",
    "\n",
    "vcfFile = vcf.Reader( open(pathToMyRegionGenotypes,'r') )\n",
    "\n",
    "for line in vcfFile.fetch( chromo, startPos, endPos ):\n",
    "    if line.INFO['AF'] > 0.05 and line.INFO['AF'] < 0.95:\n",
    "        countOfLines += 1\n",
    "    \n",
    "print countOfLines"
   ]
  },
  {
   "cell_type": "code",
   "execution_count": null,
   "metadata": {
    "collapsed": true
   },
   "outputs": [],
   "source": []
  },
  {
   "cell_type": "code",
   "execution_count": null,
   "metadata": {
    "collapsed": true
   },
   "outputs": [],
   "source": []
  },
  {
   "cell_type": "markdown",
   "metadata": {},
   "source": [
    "### Do a ordinary linear regression in python\n",
    "\n",
    "- Using the function stats.linrgress \n",
    "- Consult documentation here http://docs.scipy.org/doc/scipy-0.15.1/reference/generated/scipy.stats.linregress.html\n",
    "- Or, use shift-TAB (as on Day 3) to get a brief description of arguments\n",
    "\n"
   ]
  },
  {
   "cell_type": "markdown",
   "metadata": {},
   "source": [
    "#### Test with some well-correlated random samples\n",
    "- sample X  ~ N(10,2)\n",
    "- sample Y ~ 3*x + e, e ~ N(0,1)\n",
    "- plot the points X versus Y\n",
    "- plot the best fit line \n",
    "\n"
   ]
  },
  {
   "cell_type": "code",
   "execution_count": 37,
   "metadata": {
    "collapsed": false
   },
   "outputs": [
    {
     "name": "stdout",
     "output_type": "stream",
     "text": [
      "2.92921105013\n",
      "0.674335263806\n",
      "0.985574651032\n",
      "2.01844304122e-77\n",
      "0.0508106060391\n"
     ]
    }
   ],
   "source": [
    "# one solution\n",
    "\n",
    "x = np.random.normal( loc=10, scale=2, size=100 )\n",
    "y = 3*x + np.random.normal( loc=0, scale=1, size=100 )\n",
    "\n",
    "#Based on http://glowingpython.blogspot.com/2012/03/linear-regression-with-numpy.html\n",
    "slope, intercept, r_value, p_value, std_err = stats.linregress(x,y)\n",
    "\n",
    "print slope\n",
    "print intercept\n",
    "print r_value\n",
    "print p_value\n",
    "print std_err\n"
   ]
  },
  {
   "cell_type": "code",
   "execution_count": 38,
   "metadata": {
    "collapsed": false
   },
   "outputs": [
    {
     "data": {
      "text/plain": [
       "<matplotlib.collections.PathCollection at 0x2ad78ae62390>"
      ]
     },
     "execution_count": 38,
     "metadata": {},
     "output_type": "execute_result"
    },
    {
     "data": {
      "image/png": "[encoded data removed]",
      "text/plain": [
       "<matplotlib.figure.Figure at 0x2ad789f696d0>"
      ]
     },
     "metadata": {},
     "output_type": "display_data"
    }
   ],
   "source": [
    "# DIY: plot x vs y\n",
    "plt.scatter( x, y)"
   ]
  },
  {
   "cell_type": "code",
   "execution_count": 39,
   "metadata": {
    "collapsed": false
   },
   "outputs": [
    {
     "data": {
      "text/plain": [
       "[<matplotlib.lines.Line2D at 0x2ad78ae7f850>]"
      ]
     },
     "execution_count": 39,
     "metadata": {},
     "output_type": "execute_result"
    },
    {
     "data": {
      "image/png": "[encoded data removed]",
      "text/plain": [
       "<matplotlib.figure.Figure at 0x2ad78a5645d0>"
      ]
     },
     "metadata": {},
     "output_type": "display_data"
    }
   ],
   "source": [
    "# DIY: plot x versus y and best fit line\n",
    "y_fit = x*slope + intercept \n",
    "plt.scatter(x,y)\n",
    "plt.plot(x,y_fit,color='red')"
   ]
  },
  {
   "cell_type": "code",
   "execution_count": null,
   "metadata": {
    "collapsed": true
   },
   "outputs": [],
   "source": []
  },
  {
   "cell_type": "code",
   "execution_count": null,
   "metadata": {
    "collapsed": true
   },
   "outputs": [],
   "source": []
  },
  {
   "cell_type": "markdown",
   "metadata": {},
   "source": [
    "### Put it all together\n",
    "\n",
    "- Loop through a list of genes in the region\n",
    "- Get gene expression values\n",
    "- In that region, loop through every SNP\n",
    "    - Only consider SNPs with MAF > 5%\n",
    "- For each SNP, perform a linear regression of expression against genotype (0,1,2)"
   ]
  },
  {
   "cell_type": "code",
   "execution_count": 40,
   "metadata": {
    "collapsed": true
   },
   "outputs": [],
   "source": [
    "#  SKELETON OF BELOW"
   ]
  },
  {
   "cell_type": "code",
   "execution_count": 1,
   "metadata": {
    "collapsed": false
   },
   "outputs": [],
   "source": [
    "# One solution\n",
    "def regionVsSingleGene( fnQuant,\n",
    "                        fnRegionVcf,\n",
    "                        gene, \n",
    "                        chromo,\n",
    "                        startPos, \n",
    "                        endPos,\n",
    "                        cutoffToPlot = 1e-40,\n",
    "                        makePlots=True ):\n",
    "\n",
    "    vcfFile = vcf.Reader( open(fnRegionVcf,'r') )\n",
    "\n",
    "    expressionTableIndivs = readIndivNamesFromExpressionTable( fnQuant )\n",
    "    \n",
    "    bestPval = 1e99\n",
    "    bestSnpCoord = None\n",
    "\n",
    "    listOfSnpCoords = []\n",
    "    listOfPvalues = []    \n",
    "\n",
    "    indivToExpr = extractExpressionValues( fnQuant, gene, expressionTableIndivs )\n",
    "\n",
    "    listOfExpressionValues = []\n",
    "    for sample in expressionTableIndivs:\n",
    "        listOfExpressionValues.append( indivToExpr[sample] )\n",
    "\n",
    "    counter = 0\n",
    "\n",
    "    for record in vcfFile.fetch( chromo, startPos, endPos ):\n",
    "\n",
    "        counter += 1\n",
    "        if counter % 250 == 0 :\n",
    "            print 'on snp #',counter,'...'\n",
    "\n",
    "        if record.INFO['AF'] < 0.05 or record.INFO['AF'] > 0.95:\n",
    "            continue\n",
    "\n",
    "        listOfSnpCoords.append( record.POS )\n",
    "\n",
    "        #look up each sample genotype using sample list\n",
    "        listOfGenotypeCalls = []\n",
    "\n",
    "        for sample in expressionTableIndivs:\n",
    "            call = record.genotype( sample )\n",
    "            geno = call.gt_type\n",
    "            if geno != 0 and geno != 1 and geno != 2:\n",
    "                geno = 0\n",
    "            listOfGenotypeCalls.append( geno )\n",
    "\n",
    "        #conver to numpy array for calculations     \n",
    "        y = np.array(listOfExpressionValues)\n",
    "        xi = np.array(listOfGenotypeCalls)\n",
    "\n",
    "        #Based on http://glowingpython.blogspot.com/2012/03/linear-regression-with-numpy.html\n",
    "        slope, intercept, r_value, p_value, std_err = stats.linregress(xi,y)\n",
    "        listOfPvalues.append( p_value )\n",
    "\n",
    "        if p_value < bestPval:\n",
    "            bestPval = p_value\n",
    "            bestSnp = record.POS\n",
    "\n",
    "        # plot quick scatter plot with regression line\n",
    "        if p_value < cutoffToPlot and makePlots:\n",
    "            print record.ID\n",
    "            print 'gene',gene\n",
    "            print 'r value', r_value\n",
    "            print  'p_value', p_value\n",
    "            print 'standard deviation', std_err\n",
    "\n",
    "            line = slope*xi+intercept\n",
    "            plt.plot(xi,line,'r-',xi,y,'o')\n",
    "            plt.show()\n",
    "\n",
    "    return bestPval, bestSnp, listOfPvalues, listOfSnpCoords"
   ]
  },
  {
   "cell_type": "code",
   "execution_count": 42,
   "metadata": {
    "collapsed": false
   },
   "outputs": [
    {
     "name": "stdout",
     "output_type": "stream",
     "text": [
      "on snp # 250 ...\n",
      "on snp # 500 ...\n",
      "on snp # 750 ...\n",
      "on snp # 1000 ...\n",
      "on snp # 1250 ...\n",
      "on snp # 1500 ...\n",
      "on snp # 1750 ...\n",
      "on snp # 2000 ...\n",
      "snp_5_96124959\n",
      "gene ENSG00000164307\n",
      "r value -0.60344179604\n",
      "p_value 1.03841478464e-66\n",
      "standard deviation 0.551259004708\n"
     ]
    },
    {
     "data": {
      "image/png": "[encoded data removed]",
      "text/plain": [
       "<matplotlib.figure.Figure at 0x2ad78a6bf510>"
      ]
     },
     "metadata": {},
     "output_type": "display_data"
    },
    {
     "name": "stdout",
     "output_type": "stream",
     "text": [
      "on snp # 2250 ...\n",
      "on snp # 2500 ...\n",
      "on snp # 2750 ...\n"
     ]
    }
   ],
   "source": [
    "# now we'll use this function\n",
    "\n",
    "bestPval, bestSnp, listOfPvalues, listOfSnpCoords = regionVsSingleGene( \n",
    "        pathToQuantFile,\n",
    "        pathToMyRegionGenotypes,\n",
    "        'ENSG00000164307', \n",
    "        chromo,\n",
    "        startPos, \n",
    "        endPos,\n",
    "        cutoffToPlot=1e-65,\n",
    "        makePlots=True )"
   ]
  },
  {
   "cell_type": "code",
   "execution_count": 43,
   "metadata": {
    "collapsed": false
   },
   "outputs": [
    {
     "name": "stdout",
     "output_type": "stream",
     "text": [
      "best p value is 1.03841478464e-66\n"
     ]
    }
   ],
   "source": [
    "print 'best p value is',bestPval"
   ]
  },
  {
   "cell_type": "markdown",
   "metadata": {},
   "source": [
    "#### DIY: modify above code to produce a boxplot rather than a scatterplot\n",
    "- hint - in addition to making a list of all x (genotype) and y (expression values), also construct lists of values for the 0/0, 0/1, and 1/1 genotypes"
   ]
  },
  {
   "cell_type": "code",
   "execution_count": 47,
   "metadata": {
    "collapsed": true
   },
   "outputs": [],
   "source": [
    "# One solution\n",
    "def regionVsSingleGeneBoxplot( fnQuant,\n",
    "                        fnRegionVcf,\n",
    "                        gene, \n",
    "                        chromo,\n",
    "                        startPos, \n",
    "                        endPos,\n",
    "                        cutoffToPlot = 1e-40,\n",
    "                        makePlots=True ):\n",
    "\n",
    "    vcfFile = vcf.Reader( open(fnRegionVcf,'r') )\n",
    "\n",
    "    expressionTableIndivs = readIndivNamesFromExpressionTable( fnQuant )\n",
    "        \n",
    "    bestPval = 1e99\n",
    "    bestSnpCoord = None\n",
    "\n",
    "    listOfSnpCoords = []\n",
    "    listOfPvalues = []    \n",
    "\n",
    "    indivToExpr = extractExpressionValues( fnQuant, gene, expressionTableIndivs )\n",
    "\n",
    "    listOfExpressionValues = []\n",
    "    for sample in expressionTableIndivs:\n",
    "        listOfExpressionValues.append( indivToExpr[sample] )\n",
    "\n",
    "    counter = 0\n",
    "\n",
    "    for record in vcfFile.fetch( chromo, startPos, endPos ):\n",
    "\n",
    "        counter += 1\n",
    "        if counter % 250 == 0 :\n",
    "            print 'on snp #',counter,'...'\n",
    "\n",
    "        if record.INFO['AF'] < 0.05 or record.INFO['AF'] > 0.95:\n",
    "            continue\n",
    "\n",
    "        listOfSnpCoords.append( record.POS )\n",
    "\n",
    "        #look up each sample genotype using sample list\n",
    "        listOfGenotypeCalls = []\n",
    "\n",
    "        # ADDED CODE HERE FOR BOXPLOTS ######\n",
    "        listExpressionValuesHmzAlt=[]\n",
    "        listExpressionValuesHet = []\n",
    "        listExpressionValuesHmzRef=[]\n",
    "        #####################################\n",
    "\n",
    "\n",
    "        for sample in expressionTableIndivs:\n",
    "            call = record.genotype( sample )\n",
    "            geno = call.gt_type\n",
    "            if geno != 0 and geno != 1 and geno != 2:\n",
    "                geno = 0\n",
    "            listOfGenotypeCalls.append( geno )\n",
    "            \n",
    "            # ADDED CODE HERE FOR BOXPLOTS ######\n",
    "            if geno==0:\n",
    "                listExpressionValuesHmzRef.append( indivToExpr[sample] )\n",
    "            elif geno==1:\n",
    "                listExpressionValuesHet.append( indivToExpr[sample]  )\n",
    "            elif geno==2:\n",
    "                listExpressionValuesHmzAlt.append( indivToExpr[sample]  )\n",
    "            #####################################\n",
    "\n",
    "\n",
    "            \n",
    "            \n",
    "        #conver to numpy array for calculations     \n",
    "        y = np.array(listOfExpressionValues)\n",
    "        xi = np.array(listOfGenotypeCalls)\n",
    "\n",
    "        #Based on http://glowingpython.blogspot.com/2012/03/linear-regression-with-numpy.html\n",
    "        slope, intercept, r_value, p_value, std_err = stats.linregress(xi,y)\n",
    "        listOfPvalues.append( p_value )\n",
    "\n",
    "        if p_value < bestPval:\n",
    "            bestPval = p_value\n",
    "            bestSnp = record.POS\n",
    "\n",
    "        # plot quick scatter plot with regression line\n",
    "        if p_value < cutoffToPlot and makePlots:\n",
    "            print record.ID\n",
    "            print 'gene',gene\n",
    "            print 'r value', r_value\n",
    "            print  'p_value', p_value\n",
    "            print 'standard deviation', std_err\n",
    "\n",
    "            # ADDED CODE HERE FOR BOXPLOTS ######\n",
    "            plt.boxplot( x=[listExpressionValuesHmzRef,listExpressionValuesHet,listExpressionValuesHmzAlt],\n",
    "                        labels=['0/0','0/1','1/1'] )\n",
    "            plt.show()\n",
    "\n",
    "\n",
    "\n",
    "    return bestPval, bestSnp, listOfPvalues, listOfSnpCoords\n",
    "            \n",
    "            "
   ]
  },
  {
   "cell_type": "code",
   "execution_count": 48,
   "metadata": {
    "collapsed": false
   },
   "outputs": [
    {
     "name": "stdout",
     "output_type": "stream",
     "text": [
      "on snp # 250 ...\n",
      "on snp # 500 ...\n",
      "on snp # 750 ...\n",
      "on snp # 1000 ...\n",
      "on snp # 1250 ...\n",
      "on snp # 1500 ...\n",
      "on snp # 1750 ...\n",
      "on snp # 2000 ...\n",
      "snp_5_96124959\n",
      "gene ENSG00000164307\n",
      "r value -0.60344179604\n",
      "p_value 1.03841478464e-66\n",
      "standard deviation 0.551259004708\n"
     ]
    },
    {
     "data": {
      "image/png": "[encoded data removed]",
      "text/plain": [
       "<matplotlib.figure.Figure at 0x2ad78b6df690>"
      ]
     },
     "metadata": {},
     "output_type": "display_data"
    },
    {
     "name": "stdout",
     "output_type": "stream",
     "text": [
      "on snp # 2250 ...\n",
      "on snp # 2500 ...\n",
      "on snp # 2750 ...\n"
     ]
    }
   ],
   "source": [
    "# now we'll use this function\n",
    "\n",
    "bestPval, bestSnp, listOfPvalues, listOfSnpCoords = regionVsSingleGeneBoxplot( \n",
    "        pathToQuantFile,\n",
    "        pathToMyRegionGenotypes,\n",
    "        'ENSG00000164307', \n",
    "        chromo,\n",
    "        startPos, \n",
    "        endPos,\n",
    "        cutoffToPlot=1e-65,\n",
    "        makePlots=True )"
   ]
  },
  {
   "cell_type": "markdown",
   "metadata": {},
   "source": [
    "#### DIY: make a Manhattan plot\n",
    " - SNP p-value versus coordinate\n",
    " - usually it's best to view these as -log10(p) -- numpy has a log10 function"
   ]
  },
  {
   "cell_type": "code",
   "execution_count": 46,
   "metadata": {
    "collapsed": false
   },
   "outputs": [
    {
     "data": {
      "text/plain": [
       "<matplotlib.collections.PathCollection at 0x2ad78b6e2690>"
      ]
     },
     "execution_count": 46,
     "metadata": {},
     "output_type": "execute_result"
    },
    {
     "data": {
      "image/png": "[encoded data removed]",
      "text/plain": [
       "<matplotlib.figure.Figure at 0x2ad78a690bd0>"
      ]
     },
     "metadata": {},
     "output_type": "display_data"
    }
   ],
   "source": [
    "#one solution\n",
    "plt.scatter( x=listOfSnpCoords, y=-np.log10(listOfPvalues) )"
   ]
  },
  {
   "cell_type": "code",
   "execution_count": null,
   "metadata": {
    "collapsed": true
   },
   "outputs": [],
   "source": []
  },
  {
   "cell_type": "code",
   "execution_count": null,
   "metadata": {
    "collapsed": true
   },
   "outputs": [],
   "source": []
  },
  {
   "cell_type": "markdown",
   "metadata": {},
   "source": [
    "### Challenge ideas\n",
    " - Expand the regions, then loop over multiple genes within the region.  Do cis-eQTLs for a given gene act as the same for adjacent genes?\n",
    " - Implement a permutation method to estimate false discovery rate.  For instance, you could add a new function to scramble the genotype values amongst individuals as they are read (or likewise for the expression values)"
   ]
  },
  {
   "cell_type": "code",
   "execution_count": null,
   "metadata": {
    "collapsed": true
   },
   "outputs": [],
   "source": []
  }
 ],
 "metadata": {
  "kernelspec": {
   "display_name": "Python 2",
   "language": "python",
   "name": "python2"
  },
  "language_info": {
   "codemirror_mode": {
    "name": "ipython",
    "version": 2
   },
   "file_extension": ".py",
   "mimetype": "text/x-python",
   "name": "python",
   "nbconvert_exporter": "python",
   "pygments_lexer": "ipython2",
   "version": "2.7.10"
  }
 },
 "nbformat": 4,
 "nbformat_minor": 0
}
