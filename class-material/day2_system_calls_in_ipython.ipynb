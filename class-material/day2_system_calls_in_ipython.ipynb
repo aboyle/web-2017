{
 "cells": [
  {
   "cell_type": "code",
   "execution_count": null,
   "metadata": {
    "collapsed": true
   },
   "outputs": [],
   "source": [
    "# system calls in python"
   ]
  },
  {
   "cell_type": "code",
   "execution_count": 1,
   "metadata": {
    "collapsed": false
   },
   "outputs": [
    {
     "name": "stdout",
     "output_type": "stream",
     "text": [
      "\u001b[35mGTEx_Analysis_v6p_RNA-seq_RNA-SeQCv1.1.8_gene_median_rpkm.gct.gz\u001b[m\u001b[m\r\n",
      "Untitled.ipynb\r\n",
      "cereals.csv\r\n",
      "day2-python-pandas.pptx\r\n",
      "day2-visualization.pptx\r\n",
      "day2_visualization_with_seaborn.ipynb\r\n",
      "generate_many_files.ipynb\r\n",
      "\u001b[34mpile_of_files\u001b[m\u001b[m\r\n",
      "system_calls_in_ipython.ipynb\r\n"
     ]
    }
   ],
   "source": [
    "!ls "
   ]
  },
  {
   "cell_type": "code",
   "execution_count": 4,
   "metadata": {
    "collapsed": false
   },
   "outputs": [
    {
     "name": "stdout",
     "output_type": "stream",
     "text": [
      "Name,Cups,Calories,Carbs,Fat,Fiber,Potassium,Protein,Sodium,Sugars\r\n",
      "CapnCrunch,0.75,120,12,2,0,35,1,220,12\r\n",
      "CocoaPuffs,1,110,12,1,0,55,1,180,13\r\n"
     ]
    }
   ],
   "source": [
    "!head -n3 cereals.csv"
   ]
  },
  {
   "cell_type": "code",
   "execution_count": null,
   "metadata": {
    "collapsed": true
   },
   "outputs": [],
   "source": [
    "# any command-line command can be placed after the !\n",
    "# note - some of these may not be available on windows, or \n",
    "# may have a different name "
   ]
  },
  {
   "cell_type": "code",
   "execution_count": null,
   "metadata": {
    "collapsed": true
   },
   "outputs": [],
   "source": []
  },
  {
   "cell_type": "code",
   "execution_count": null,
   "metadata": {
    "collapsed": true
   },
   "outputs": [],
   "source": [
    "# the library os.path provides us with some utilities for dealing with paths\n",
    "# also glob"
   ]
  },
  {
   "cell_type": "code",
   "execution_count": 5,
   "metadata": {
    "collapsed": true
   },
   "outputs": [],
   "source": [
    "import os.path\n",
    "import glob"
   ]
  },
  {
   "cell_type": "code",
   "execution_count": 6,
   "metadata": {
    "collapsed": false
   },
   "outputs": [],
   "source": [
    "list_of_filenames = glob.glob('./pile_of_files/*.txt')"
   ]
  },
  {
   "cell_type": "code",
   "execution_count": 7,
   "metadata": {
    "collapsed": false
   },
   "outputs": [
    {
     "name": "stdout",
     "output_type": "stream",
     "text": [
      "<type 'list'>\n"
     ]
    }
   ],
   "source": [
    "print type(list_of_filenames)"
   ]
  },
  {
   "cell_type": "code",
   "execution_count": 8,
   "metadata": {
    "collapsed": false
   },
   "outputs": [
    {
     "name": "stdout",
     "output_type": "stream",
     "text": [
      "['./pile_of_files/file_0.txt', './pile_of_files/file_1.txt', './pile_of_files/file_10.txt', './pile_of_files/file_11.txt', './pile_of_files/file_12.txt', './pile_of_files/file_13.txt', './pile_of_files/file_14.txt', './pile_of_files/file_15.txt', './pile_of_files/file_16.txt', './pile_of_files/file_17.txt']\n"
     ]
    }
   ],
   "source": [
    "print list_of_filenames[:10]"
   ]
  },
  {
   "cell_type": "code",
   "execution_count": 10,
   "metadata": {
    "collapsed": true
   },
   "outputs": [
    {
     "name": "stdout",
     "output_type": "stream",
     "text": [
      "writing out the first line of  ./pile_of_files/file_0.txt\n",
      "writing out the first line of  ./pile_of_files/file_1.txt\n",
      "writing out the first line of  ./pile_of_files/file_10.txt\n",
      "writing out the first line of  ./pile_of_files/file_11.txt\n",
      "writing out the first line of  ./pile_of_files/file_12.txt\n",
      "writing out the first line of  ./pile_of_files/file_13.txt\n",
      "writing out the first line of  ./pile_of_files/file_14.txt\n",
      "writing out the first line of  ./pile_of_files/file_15.txt\n",
      "writing out the first line of  ./pile_of_files/file_16.txt\n",
      "writing out the first line of  ./pile_of_files/file_17.txt\n",
      "writing out the first line of  ./pile_of_files/file_18.txt\n",
      "writing out the first line of  ./pile_of_files/file_19.txt\n",
      "writing out the first line of  ./pile_of_files/file_2.txt\n",
      "writing out the first line of  ./pile_of_files/file_20.txt\n",
      "writing out the first line of  ./pile_of_files/file_21.txt\n",
      "writing out the first line of  ./pile_of_files/file_22.txt\n",
      "writing out the first line of  ./pile_of_files/file_23.txt\n",
      "writing out the first line of  ./pile_of_files/file_24.txt\n",
      "writing out the first line of  ./pile_of_files/file_25.txt\n",
      "writing out the first line of  ./pile_of_files/file_26.txt\n",
      "writing out the first line of  ./pile_of_files/file_27.txt\n",
      "writing out the first line of  ./pile_of_files/file_28.txt\n",
      "writing out the first line of  ./pile_of_files/file_29.txt\n",
      "writing out the first line of  ./pile_of_files/file_3.txt\n",
      "writing out the first line of  ./pile_of_files/file_30.txt\n",
      "writing out the first line of  ./pile_of_files/file_31.txt\n",
      "writing out the first line of  ./pile_of_files/file_32.txt\n",
      "writing out the first line of  ./pile_of_files/file_33.txt\n",
      "writing out the first line of  ./pile_of_files/file_34.txt\n",
      "writing out the first line of  ./pile_of_files/file_35.txt\n",
      "writing out the first line of  ./pile_of_files/file_36.txt\n",
      "writing out the first line of  ./pile_of_files/file_37.txt\n",
      "writing out the first line of  ./pile_of_files/file_38.txt\n",
      "writing out the first line of  ./pile_of_files/file_39.txt\n",
      "writing out the first line of  ./pile_of_files/file_4.txt\n",
      "writing out the first line of  ./pile_of_files/file_40.txt\n",
      "writing out the first line of  ./pile_of_files/file_41.txt\n",
      "writing out the first line of  ./pile_of_files/file_42.txt\n",
      "writing out the first line of  ./pile_of_files/file_43.txt\n",
      "writing out the first line of  ./pile_of_files/file_44.txt\n",
      "writing out the first line of  ./pile_of_files/file_45.txt\n",
      "writing out the first line of  ./pile_of_files/file_46.txt\n",
      "writing out the first line of  ./pile_of_files/file_47.txt\n",
      "writing out the first line of  ./pile_of_files/file_48.txt\n",
      "writing out the first line of  ./pile_of_files/file_49.txt\n",
      "writing out the first line of  ./pile_of_files/file_5.txt\n",
      "writing out the first line of  ./pile_of_files/file_50.txt\n",
      "writing out the first line of  ./pile_of_files/file_51.txt\n",
      "writing out the first line of  ./pile_of_files/file_52.txt\n",
      "writing out the first line of  ./pile_of_files/file_53.txt\n",
      "writing out the first line of  ./pile_of_files/file_54.txt\n",
      "writing out the first line of  ./pile_of_files/file_55.txt\n",
      "writing out the first line of  ./pile_of_files/file_56.txt\n",
      "writing out the first line of  ./pile_of_files/file_57.txt\n",
      "writing out the first line of  ./pile_of_files/file_58.txt\n",
      "writing out the first line of  ./pile_of_files/file_59.txt\n",
      "writing out the first line of  ./pile_of_files/file_6.txt\n",
      "writing out the first line of  ./pile_of_files/file_60.txt\n",
      "writing out the first line of  ./pile_of_files/file_61.txt\n",
      "writing out the first line of  ./pile_of_files/file_62.txt\n",
      "writing out the first line of  ./pile_of_files/file_63.txt\n",
      "writing out the first line of  ./pile_of_files/file_64.txt\n",
      "writing out the first line of  ./pile_of_files/file_65.txt\n",
      "writing out the first line of  ./pile_of_files/file_66.txt\n",
      "writing out the first line of  ./pile_of_files/file_67.txt\n",
      "writing out the first line of  ./pile_of_files/file_68.txt\n",
      "writing out the first line of  ./pile_of_files/file_69.txt\n",
      "writing out the first line of  ./pile_of_files/file_7.txt\n",
      "writing out the first line of  ./pile_of_files/file_70.txt\n",
      "writing out the first line of  ./pile_of_files/file_71.txt\n",
      "writing out the first line of  ./pile_of_files/file_72.txt\n",
      "writing out the first line of  ./pile_of_files/file_73.txt\n",
      "writing out the first line of  ./pile_of_files/file_74.txt\n",
      "writing out the first line of  ./pile_of_files/file_75.txt\n",
      "writing out the first line of  ./pile_of_files/file_76.txt\n",
      "writing out the first line of  ./pile_of_files/file_77.txt\n",
      "writing out the first line of  ./pile_of_files/file_78.txt\n",
      "writing out the first line of  ./pile_of_files/file_79.txt\n",
      "writing out the first line of  ./pile_of_files/file_8.txt\n",
      "writing out the first line of  ./pile_of_files/file_80.txt\n",
      "writing out the first line of  ./pile_of_files/file_81.txt\n",
      "writing out the first line of  ./pile_of_files/file_82.txt\n",
      "writing out the first line of  ./pile_of_files/file_83.txt\n",
      "writing out the first line of  ./pile_of_files/file_84.txt\n",
      "writing out the first line of  ./pile_of_files/file_85.txt\n",
      "writing out the first line of  ./pile_of_files/file_86.txt\n",
      "writing out the first line of  ./pile_of_files/file_87.txt\n",
      "writing out the first line of  ./pile_of_files/file_88.txt\n",
      "writing out the first line of  ./pile_of_files/file_89.txt\n",
      "writing out the first line of  ./pile_of_files/file_9.txt\n",
      "writing out the first line of  ./pile_of_files/file_90.txt\n",
      "writing out the first line of  ./pile_of_files/file_91.txt\n",
      "writing out the first line of  ./pile_of_files/file_92.txt\n",
      "writing out the first line of  ./pile_of_files/file_93.txt\n",
      "writing out the first line of  ./pile_of_files/file_94.txt\n",
      "writing out the first line of  ./pile_of_files/file_95.txt\n",
      "writing out the first line of  ./pile_of_files/file_96.txt\n",
      "writing out the first line of  ./pile_of_files/file_97.txt\n",
      "writing out the first line of  ./pile_of_files/file_98.txt\n",
      "writing out the first line of  ./pile_of_files/file_99.txt\n"
     ]
    }
   ],
   "source": [
    "# we can use \"substitution\" to put the contents of python variables\n",
    "# into command line commands.  We do this by issuing a command \n",
    "# using the \"!\" syntax, and then refering to the variable with a $\n",
    "# as below\n",
    "\n",
    "for fn in list_of_filenames:\n",
    "    print 'writing out the first line of ',fn  # this is in python\n",
    "    x=!head -n1 $fn         # this is in bash"
   ]
  },
  {
   "cell_type": "code",
   "execution_count": 11,
   "metadata": {
    "collapsed": false
   },
   "outputs": [
    {
     "data": {
      "text/plain": [
       "['0.73']"
      ]
     },
     "execution_count": 11,
     "metadata": {},
     "output_type": "execute_result"
    }
   ],
   "source": [
    "x"
   ]
  },
  {
   "cell_type": "code",
   "execution_count": null,
   "metadata": {
    "collapsed": true
   },
   "outputs": [],
   "source": []
  }
 ],
 "metadata": {
  "kernelspec": {
   "display_name": "Python 2",
   "language": "python",
   "name": "python2"
  },
  "language_info": {
   "codemirror_mode": {
    "name": "ipython",
    "version": 2
   },
   "file_extension": ".py",
   "mimetype": "text/x-python",
   "name": "python",
   "nbconvert_exporter": "python",
   "pygments_lexer": "ipython2",
   "version": "2.7.11"
  }
 },
 "nbformat": 4,
 "nbformat_minor": 0
}
